{
  "nbformat": 4,
  "nbformat_minor": 0,
  "metadata": {
    "colab": {
      "name": "Ch3_Classification",
      "provenance": [],
      "collapsed_sections": [],
      "authorship_tag": "ABX9TyMTgSMkQTyrH+ocuHqS1uXo",
      "include_colab_link": true
    },
    "kernelspec": {
      "name": "python3",
      "display_name": "Python 3"
    },
    "language_info": {
      "name": "python"
    }
  },
  "cells": [
    {
      "cell_type": "markdown",
      "metadata": {
        "id": "view-in-github",
        "colab_type": "text"
      },
      "source": [
        "<a href=\"https://colab.research.google.com/github/dittysan/machinelearningpractice/blob/main/Ch3_Classification.ipynb\" target=\"_parent\"><img src=\"https://colab.research.google.com/assets/colab-badge.svg\" alt=\"Open In Colab\"/></a>"
      ]
    },
    {
      "cell_type": "code",
      "execution_count": 4,
      "metadata": {
        "id": "VdFBFbbaAMiV"
      },
      "outputs": [],
      "source": [
        "from sklearn.datasets import fetch_openml\n",
        "import numpy as np\n",
        "import matplotlib.pyplot as plt\n",
        "from sklearn.linear_model import SGDClassifier"
      ]
    },
    {
      "cell_type": "code",
      "source": [
        "mnist = fetch_openml('mnist_784', version = 1)\n",
        "print(mnist.keys())\n",
        "\n",
        "# dict_keys(['data', 'target', 'frame', 'categories', 'feature_names', 'target_names', 'DESCR', 'details', 'url'])\n",
        "\n",
        "X, y = mnist[\"data\"], mnist[\"target\"]\n",
        "print(X.shape, y.shape)\n",
        "\n",
        "# (70000, 784) (70000,)"
      ],
      "metadata": {
        "colab": {
          "base_uri": "https://localhost:8080/"
        },
        "id": "wuik8ap1Cakv",
        "outputId": "4f3b2cfb-1bb6-4532-b8ab-fcc63fc553c7"
      },
      "execution_count": 9,
      "outputs": [
        {
          "output_type": "stream",
          "name": "stdout",
          "text": [
            "dict_keys(['data', 'target', 'frame', 'categories', 'feature_names', 'target_names', 'DESCR', 'details', 'url'])\n",
            "(70000, 784) (70000,)\n"
          ]
        }
      ]
    },
    {
      "cell_type": "code",
      "source": [
        "first_digit_im = X.to_numpy()[0].reshape(28,28)\n",
        "plt.imshow(first_digit_im, cmap=\"binary\")\n",
        "plt.axis(\"off\")\n",
        "plt.show()\n",
        "\n",
        "# cast as int\n",
        "X = X.to_numpy()\n",
        "y = y.to_numpy()\n",
        "\n",
        "# create test, train\n",
        "X_train, X_test, y_train, y_test = X[:60000], X[60000:], y[:60000], y[60000:]\n"
      ],
      "metadata": {
        "colab": {
          "base_uri": "https://localhost:8080/",
          "height": 248
        },
        "id": "U9xAT5QPB-Mp",
        "outputId": "9500fe3c-acee-4057-9f5d-922bc2a01d01"
      },
      "execution_count": 17,
      "outputs": [
        {
          "output_type": "display_data",
          "data": {
            "text/plain": [
              "<Figure size 432x288 with 1 Axes>"
            ],
            "image/png": "[encoded data removed]"
          },
          "metadata": {
            "needs_background": "light"
          }
        }
      ]
    },
    {
      "cell_type": "code",
      "source": [
        "# binary classifier (whether 5 or not)\n",
        "y_train_5 = (y_train == 5)\n",
        "y_test_5 = (y_test == 5)\n",
        "\n",
        "# # ---> SGD\n",
        "sgd = SGDClassifier(random_state = 42)\n",
        "sgd.fit(X_train, y_train_5)"
      ],
      "metadata": {
        "colab": {
          "base_uri": "https://localhost:8080/"
        },
        "id": "NplX0F6YGWPJ",
        "outputId": "c81b56cc-f16a-4fb3-b5b1-384a2644b074"
      },
      "execution_count": 18,
      "outputs": [
        {
          "output_type": "execute_result",
          "data": {
            "text/plain": [
              "SGDClassifier(random_state=42)"
            ]
          },
          "metadata": {},
          "execution_count": 18
        }
      ]
    },
    {
      "cell_type": "code",
      "source": [
        "# Performance Measures\n",
        "\n",
        "# 1. Cross Validation\n",
        "# --> splits into n folds, trains on one and tests against the rest\n",
        "from sklearn.model_selection import StratifiedKFold\n",
        "from sklearn.base import clone\n",
        "\n",
        "skfolds = StratifiedKFold(n_splits =3, shuffle = True, random_state = 42)\n",
        "\n",
        "for train_index, test_index in skfolds.split(X_train, y_train_5):\n",
        "  clone_clf = clone(sgd)\n",
        "  X_train_folds = X_train[train_index]\n",
        "  y_train_folds = y_train_5[train_index]\n",
        "  X_test_fold = X_train[test_index]\n",
        "  y_test_fold = y_train_5[test_index]\n",
        "\n",
        "  clone_clf.fit(X_train_folds, y_train_folds)\n",
        "  y_pred = clone_clf.predict(X_test_fold)\n",
        "  n_correct = sum(y_pred == y_test_fold)\n",
        "  print(n_correct / len(y_pred))\n",
        "\n",
        "# --> easier way to do it (although with less control)\n",
        "from sklearn.model_selection import cross_val_score\n",
        "cross_val_score(sgd, X_train, y_train_5, cv = 3, scoring = \"accuracy\")"
      ],
      "metadata": {
        "colab": {
          "base_uri": "https://localhost:8080/"
        },
        "id": "65zkn0PgGowm",
        "outputId": "40ab436c-889e-4dc6-8770-aaa5fdf5e03b"
      },
      "execution_count": 20,
      "outputs": [
        {
          "output_type": "stream",
          "name": "stdout",
          "text": [
            "0.9669\n",
            "0.91625\n",
            "0.96785\n"
          ]
        },
        {
          "output_type": "execute_result",
          "data": {
            "text/plain": [
              "array([0.95035, 0.96035, 0.9604 ])"
            ]
          },
          "metadata": {},
          "execution_count": 20
        }
      ]
    },
    {
      "cell_type": "code",
      "source": [
        "## in skewed datasets, accuracy is not as important (only 10% of images are 5s, so can be >90% accurate by always classifying as not 5)\n",
        "\n",
        "# 2. Confusion Matrix\n",
        "\n",
        "from sklearn.model_selection import cross_val_predict # performs K-fold, but returns predictions on each test fold instead of score\n",
        "from sklearn.metrics import confusion_matrix\n",
        "\n",
        "y_train_pred = cross_val_predict(sgd, X_train, y_train_5, cv=3)\n",
        "confusion_matrix(y_train_5, y_train_pred)\n",
        "\n",
        "# each row is actual class, column is predicted class\n",
        "# first row is negative, second is positive (top left: true negatives, bottom right: true positives)\n",
        "\n",
        "## other derived metrics:\n",
        "from sklearn.metrics import precision_score, recall_score, f1_score\n",
        "\n",
        "## precision: tp / (tp + fp) --> accuracy of + preds\n",
        "precision_score(y_train_5, y_train_pred)\n",
        "\n",
        "## recall (sensitivity): tp / (tp + fn) --> ratio of + preds correctly detected by classifier\n",
        "recall_score(y_train_5, y_train_pred)\n",
        "\n",
        "## combine these into F1 score (harmonic mean), only high if both recall and precision are high\n",
        "## 2 * (precision * recall) / (precision + recall)\n",
        "f1_score(y_train_5, y_train_pred)\n",
        "\n",
        "## precision-recall trade off: increasing precision is going to reduce the recall\n",
        "## how to balance this?\n",
        "\n",
        "from sklearn.metrics import precision_recall_curve\n",
        "y_scores = cross_val_predict(sgd, X_train, y_train_5, cv=3, method = \"decision_function\") # cross-val w decision function as output\n",
        "precisions, recalls, thresholds = precision_recall_curve(y_train_5, y_scores)\n",
        "\n",
        "## plotting: \n",
        "def plot_precisionrecall(precisions, recalls, thresholds):\n",
        "  plt.plot(thresholds, precisions [:-1], \"b--\", label= \"Precision\")\n",
        "  plt.plot(thresholds, recalls [:-1], \"b--\", label= \"Recall\")\n",
        "\n",
        "plot_precisionrecall(precisions, recalls, thresholds)\n",
        "plt.show()\n",
        "\n",
        "## can pick different model with different precisions by finding threshold at certain precision (argmax) "
      ],
      "metadata": {
        "colab": {
          "base_uri": "https://localhost:8080/",
          "height": 265
        },
        "id": "WxFu2ubuWu9r",
        "outputId": "e54c8d17-27b2-4522-e4ee-19cdb0d5d7cb"
      },
      "execution_count": 27,
      "outputs": [
        {
          "output_type": "display_data",
          "data": {
            "text/plain": [
              "<Figure size 432x288 with 1 Axes>"
            ],
            "image/png": "[encoded data removed]"
          },
          "metadata": {
            "needs_background": "light"
          }
        }
      ]
    },
    {
      "cell_type": "code",
      "source": [
        "# 3. ROC (Receiver Operating Characteristic) [made a new section for this just to understand better since was never explained in ML classes]\n",
        "\n",
        "## ratio of TPR (true positive rate, or recall) vs FRP (1 - specifcity)\n",
        "## specificity is tn / (tn + fp)\n",
        "## FPR = 1 - specificty = fp / (fp + tn)\n",
        "\n",
        "from sklearn.metrics import roc_curve\n",
        "fpr, tpr, thresholds = roc_curve(y_train_5, y_scores)\n",
        "\n",
        "plt.plot(fpr, tpr, linewidth = 2)\n",
        "plt.plot([0,1], [0, 1], \"k--\")\n",
        "\n",
        "plt.show\n",
        "\n",
        "## perfect classifier will have AOC (area under the curve) = 1, purely random = 0.5\n",
        "## very similar to precision / recall curve"
      ],
      "metadata": {
        "colab": {
          "base_uri": "https://localhost:8080/",
          "height": 283
        },
        "id": "y3TedKydeEvz",
        "outputId": "2d133f59-e362-4015-9e31-24d8a72523b4"
      },
      "execution_count": 29,
      "outputs": [
        {
          "output_type": "execute_result",
          "data": {
            "text/plain": [
              "<function matplotlib.pyplot.show>"
            ]
          },
          "metadata": {},
          "execution_count": 29
        },
        {
          "output_type": "display_data",
          "data": {
            "text/plain": [
              "<Figure size 432x288 with 1 Axes>"
            ],
            "image/png": "[encoded data removed]"
          },
          "metadata": {
            "needs_background": "light"
          }
        }
      ]
    },
    {
      "cell_type": "code",
      "source": [
        "# Multiclass Classification\n",
        "\n",
        "## distinguish between more than just 2 different classes\n",
        "## one-versus-all: classifier on each class, pick the one w the highest score\n",
        "## one-versus-one: train classifier between each pair of classes --> this means need N*N-1 / 2 classifiers  ---> which class wins the most head to heads\n",
        "\n",
        "## for problems that scale poorly o-v-o preferred, but o.w. o-v-a usually better\n",
        "## scikit learn automatically does this based on alg.\n",
        "## can force by deliberately importing one\n",
        "\n",
        "from sklearn.multiclass import OneVsRestClassifier, OneVsOneClassifier\n",
        "ovo_sgd = OneVsOneClassifier(sgd)\n",
        "ovr_sgd = OneVsRestClassifier(sgd)\n",
        "\n",
        "test_digit = X[0]\n",
        "\n",
        "ovo_sgd.fit(X_train, y_train)\n",
        "ovo_sgd.predict([test_digit])\n",
        "ovo_sgd.decision_function([test_digit])\n",
        "\n",
        "ovr_sgd.fit(X_train, y_train)\n",
        "ovr_sgd.predict([test_digit])\n",
        "ovr_sgd.decision_function([test_digit])"
      ],
      "metadata": {
        "colab": {
          "base_uri": "https://localhost:8080/"
        },
        "id": "tFmWd7AxZcCG",
        "outputId": "caed8006-bac3-43f2-b924-18d71477d7c5"
      },
      "execution_count": 38,
      "outputs": [
        {
          "output_type": "execute_result",
          "data": {
            "text/plain": [
              "array([[-13781.33922923, -24334.62190222, -11148.68966068,\n",
              "         -3664.79262749, -20719.95525531,   2164.22030239,\n",
              "        -31446.3628772 , -15088.01473606, -12954.44836362,\n",
              "        -10802.51962293]])"
            ]
          },
          "metadata": {},
          "execution_count": 38
        }
      ]
    },
    {
      "cell_type": "code",
      "source": [
        "# Error Analysis\n",
        "\n",
        "# plot confusion matrices with grayscale to analyze how model performed\n",
        "\n",
        "y_train_pred = cross_val_predict(sgd, X_train, y_train, cv = 3)\n",
        "cm = confusion_matrix(y_train, y_train_pred)\n",
        "\n",
        "plt.matshow(cm, cmap = plt.cm.gray)\n",
        "plt.show\n",
        "\n",
        "# plot just the errors:\n",
        "## need to divide by row sums to plot error rates, and clear the diagonal\n",
        "row_sums = cm.sum(axis = 1, keepdims=True)\n",
        "norm_cm = cm/row_sums\n",
        "np.fill_diagonal(norm_cm, 0)\n",
        "plt.matshow(norm_cm, cmap= plt.cm.gray)\n",
        "plt.show()"
      ],
      "metadata": {
        "colab": {
          "base_uri": "https://localhost:8080/",
          "height": 533
        },
        "id": "1gRTxuiFjW_z",
        "outputId": "46923ecd-bfc2-4a84-bbd7-ecfa5164eef4"
      },
      "execution_count": 39,
      "outputs": [
        {
          "output_type": "display_data",
          "data": {
            "text/plain": [
              "<Figure size 288x288 with 1 Axes>"
            ],
            "image/png": "[encoded data removed]"
          },
          "metadata": {
            "needs_background": "light"
          }
        },
        {
          "output_type": "display_data",
          "data": {
            "text/plain": [
              "<Figure size 288x288 with 1 Axes>"
            ],
            "image/png": "[encoded data removed]"
          },
          "metadata": {
            "needs_background": "light"
          }
        }
      ]
    }
  ]
}